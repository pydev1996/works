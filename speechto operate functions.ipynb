{
 "cells": [
  {
   "cell_type": "code",
   "execution_count": 18,
   "id": "f3042b64",
   "metadata": {},
   "outputs": [
    {
     "data": {
      "text/plain": [
       "'\"- check the quality of the data ( the output should be a report(how many missing entries? …..))\\n- improve the quality of the data/ look at the quality of the data (  look at duplicate and remove them, look at the useless column and remove them, look at error and fix them, look at missing entries and replace them) \\n- analyze the data [statistics]\\n- ether split the data into training and testing data \\n- build classification model ( pick 5( desertion tree, KNN, SVM)  different classifiers to run ) \\n- build a model based on training set \\n- build a model based on testing set \\n- preform cross validation \\n- show me the accuracy of the model ( show the 5 models accuracy in table/ and show the best model based on accuracy ) \\n- show me the contribution matrix ( calculated for each model) \\n- analysis  (with visualization “graph”) ( the relationships between true positives true negative false positive false negative  )\\n- show the performance of the models ( compare the performance in a graph) \\n- evaluate the model \\n-Clean the data \\n- create a pickle file \\n\\n\\n\\nSo the key words is : \\n ⁃ Quality \\n ⁃ Improve \\n ⁃ Analyze \\n ⁃ Split \\n ⁃ Classification model \\n ⁃ Training \\n ⁃ Testing \\n ⁃ cross validation\\n ⁃ Accuracy \\n ⁃ contribution matrix\\n ⁃ analysis\\n ⁃ Performance\\n ⁃ Evaluate \\n ⁃ Clean\\n ⁃ Pickle'"
      ]
     },
     "execution_count": 18,
     "metadata": {},
     "output_type": "execute_result"
    }
   ],
   "source": [
    "\"\"\"\"- check the quality of the data ( the output should be a report(how many missing entries? …..))\n",
    "- improve the quality of the data/ look at the quality of the data (  look at duplicate and remove them, look at the useless column and remove them, look at error and fix them, look at missing entries and replace them) \n",
    "- analyze the data [statistics]\n",
    "- ether split the data into training and testing data \n",
    "- build classification model ( pick 5( desertion tree, KNN, SVM)  different classifiers to run ) \n",
    "- build a model based on training set \n",
    "- build a model based on testing set \n",
    "- preform cross validation \n",
    "- show me the accuracy of the model ( show the 5 models accuracy in table/ and show the best model based on accuracy ) \n",
    "- show me the contribution matrix ( calculated for each model) \n",
    "- analysis  (with visualization “graph”) ( the relationships between true positives true negative false positive false negative  )\n",
    "- show the performance of the models ( compare the performance in a graph) \n",
    "- evaluate the model \n",
    "-Clean the data \n",
    "- create a pickle file \n",
    "\n",
    "\n",
    "\n",
    "So the key words is : \n",
    " ⁃ Quality \n",
    " ⁃ Improve \n",
    " ⁃ Analyze \n",
    " ⁃ Split \n",
    " ⁃ Classification model \n",
    " ⁃ Training \n",
    " ⁃ Testing \n",
    " ⁃ cross validation\n",
    " ⁃ Accuracy \n",
    " ⁃ contribution matrix\n",
    " ⁃ analysis\n",
    " ⁃ Performance\n",
    " ⁃ Evaluate \n",
    " ⁃ Clean\n",
    " ⁃ Pickle\"\"\""
   ]
  },
  {
   "cell_type": "code",
   "execution_count": 65,
   "id": "4a9eb073",
   "metadata": {},
   "outputs": [],
   "source": [
    "import pandas as pd\n",
    "import numpy as np\n",
    "import re\n",
    "import string\n",
    "from nltk.stem import WordNetLemmatizer\n",
    "from sklearn.model_selection import train_test_split\n",
    "from sklearn.svm import SVC\n",
    "from sklearn.feature_extraction.text import TfidfVectorizer\n",
    "from sklearn.preprocessing import StandardScaler\n",
    "from sklearn.preprocessing import LabelEncoder\n",
    "from nltk.tokenize import RegexpTokenizer\n",
    "from nltk import PorterStemmer, WordNetLemmatizer\n",
    "import pickle\n",
    "from sklearn.metrics import confusion_matrix\n",
    "from sklearn.metrics import classification_report\n",
    "from sklearn.metrics import accuracy_score"
   ]
  },
  {
   "cell_type": "code",
   "execution_count": 66,
   "id": "06ff5f58",
   "metadata": {},
   "outputs": [],
   "source": [
    "df=pd.read_csv(\"Dataset.csv\")\n"
   ]
  },
  {
   "cell_type": "code",
   "execution_count": 67,
   "id": "ec75b6dd",
   "metadata": {},
   "outputs": [
    {
     "data": {
      "text/plain": [
       "32561"
      ]
     },
     "execution_count": 67,
     "metadata": {},
     "output_type": "execute_result"
    }
   ],
   "source": [
    "len(df)"
   ]
  },
  {
   "cell_type": "code",
   "execution_count": 68,
   "id": "5bf8248d",
   "metadata": {},
   "outputs": [
    {
     "data": {
      "text/plain": [
       "[0, 0, 0, 0, 0, 0, 0, 0, 0, 0, 0, 0, 0, 0, 0]"
      ]
     },
     "execution_count": 68,
     "metadata": {},
     "output_type": "execute_result"
    }
   ],
   "source": [
    "df.isna().sum().values.tolist()"
   ]
  },
  {
   "cell_type": "code",
   "execution_count": 69,
   "id": "c3588613",
   "metadata": {},
   "outputs": [
    {
     "data": {
      "text/plain": [
       "32537"
      ]
     },
     "execution_count": 69,
     "metadata": {},
     "output_type": "execute_result"
    }
   ],
   "source": [
    "df.sort_values(\"age\", inplace=True)\n",
    "df=df.drop_duplicates()\n",
    "df=df.drop(['education', 'marital.status','native.country','occupation','relationship','race'], axis=1)\n",
    "len(df)"
   ]
  },
  {
   "cell_type": "code",
   "execution_count": null,
   "id": "a40c198f",
   "metadata": {},
   "outputs": [],
   "source": []
  },
  {
   "cell_type": "code",
   "execution_count": 70,
   "id": "469225cb",
   "metadata": {},
   "outputs": [
    {
     "data": {
      "text/html": [
       "<div>\n",
       "<style scoped>\n",
       "    .dataframe tbody tr th:only-of-type {\n",
       "        vertical-align: middle;\n",
       "    }\n",
       "\n",
       "    .dataframe tbody tr th {\n",
       "        vertical-align: top;\n",
       "    }\n",
       "\n",
       "    .dataframe thead th {\n",
       "        text-align: right;\n",
       "    }\n",
       "</style>\n",
       "<table border=\"1\" class=\"dataframe\">\n",
       "  <thead>\n",
       "    <tr style=\"text-align: right;\">\n",
       "      <th></th>\n",
       "      <th>age</th>\n",
       "      <th>workclass</th>\n",
       "      <th>fnlwgt</th>\n",
       "      <th>education.num</th>\n",
       "      <th>sex</th>\n",
       "      <th>capital.gain</th>\n",
       "      <th>capital.loss</th>\n",
       "      <th>hours.per.week</th>\n",
       "      <th>income</th>\n",
       "    </tr>\n",
       "  </thead>\n",
       "  <tbody>\n",
       "    <tr>\n",
       "      <th>4159</th>\n",
       "      <td>17</td>\n",
       "      <td>Private</td>\n",
       "      <td>130125</td>\n",
       "      <td>6</td>\n",
       "      <td>Female</td>\n",
       "      <td>1055</td>\n",
       "      <td>0</td>\n",
       "      <td>20</td>\n",
       "      <td>0</td>\n",
       "    </tr>\n",
       "    <tr>\n",
       "      <th>18810</th>\n",
       "      <td>17</td>\n",
       "      <td>Private</td>\n",
       "      <td>187308</td>\n",
       "      <td>6</td>\n",
       "      <td>Female</td>\n",
       "      <td>0</td>\n",
       "      <td>0</td>\n",
       "      <td>15</td>\n",
       "      <td>0</td>\n",
       "    </tr>\n",
       "    <tr>\n",
       "      <th>25709</th>\n",
       "      <td>17</td>\n",
       "      <td>Private</td>\n",
       "      <td>153021</td>\n",
       "      <td>8</td>\n",
       "      <td>Female</td>\n",
       "      <td>0</td>\n",
       "      <td>0</td>\n",
       "      <td>20</td>\n",
       "      <td>0</td>\n",
       "    </tr>\n",
       "    <tr>\n",
       "      <th>6046</th>\n",
       "      <td>17</td>\n",
       "      <td>?</td>\n",
       "      <td>103810</td>\n",
       "      <td>8</td>\n",
       "      <td>Male</td>\n",
       "      <td>0</td>\n",
       "      <td>0</td>\n",
       "      <td>40</td>\n",
       "      <td>0</td>\n",
       "    </tr>\n",
       "    <tr>\n",
       "      <th>8682</th>\n",
       "      <td>17</td>\n",
       "      <td>?</td>\n",
       "      <td>127003</td>\n",
       "      <td>5</td>\n",
       "      <td>Male</td>\n",
       "      <td>0</td>\n",
       "      <td>0</td>\n",
       "      <td>40</td>\n",
       "      <td>0</td>\n",
       "    </tr>\n",
       "    <tr>\n",
       "      <th>...</th>\n",
       "      <td>...</td>\n",
       "      <td>...</td>\n",
       "      <td>...</td>\n",
       "      <td>...</td>\n",
       "      <td>...</td>\n",
       "      <td>...</td>\n",
       "      <td>...</td>\n",
       "      <td>...</td>\n",
       "      <td>...</td>\n",
       "    </tr>\n",
       "    <tr>\n",
       "      <th>8914</th>\n",
       "      <td>90</td>\n",
       "      <td>Private</td>\n",
       "      <td>51744</td>\n",
       "      <td>14</td>\n",
       "      <td>Male</td>\n",
       "      <td>0</td>\n",
       "      <td>0</td>\n",
       "      <td>50</td>\n",
       "      <td>1</td>\n",
       "    </tr>\n",
       "    <tr>\n",
       "      <th>8791</th>\n",
       "      <td>90</td>\n",
       "      <td>Private</td>\n",
       "      <td>141758</td>\n",
       "      <td>5</td>\n",
       "      <td>Female</td>\n",
       "      <td>0</td>\n",
       "      <td>0</td>\n",
       "      <td>40</td>\n",
       "      <td>0</td>\n",
       "    </tr>\n",
       "    <tr>\n",
       "      <th>7756</th>\n",
       "      <td>90</td>\n",
       "      <td>Private</td>\n",
       "      <td>313986</td>\n",
       "      <td>7</td>\n",
       "      <td>Male</td>\n",
       "      <td>0</td>\n",
       "      <td>0</td>\n",
       "      <td>40</td>\n",
       "      <td>0</td>\n",
       "    </tr>\n",
       "    <tr>\n",
       "      <th>14659</th>\n",
       "      <td>90</td>\n",
       "      <td>Private</td>\n",
       "      <td>40388</td>\n",
       "      <td>13</td>\n",
       "      <td>Male</td>\n",
       "      <td>0</td>\n",
       "      <td>0</td>\n",
       "      <td>55</td>\n",
       "      <td>0</td>\n",
       "    </tr>\n",
       "    <tr>\n",
       "      <th>0</th>\n",
       "      <td>90</td>\n",
       "      <td>?</td>\n",
       "      <td>77053</td>\n",
       "      <td>9</td>\n",
       "      <td>Female</td>\n",
       "      <td>0</td>\n",
       "      <td>4356</td>\n",
       "      <td>40</td>\n",
       "      <td>0</td>\n",
       "    </tr>\n",
       "  </tbody>\n",
       "</table>\n",
       "<p>32537 rows × 9 columns</p>\n",
       "</div>"
      ],
      "text/plain": [
       "       age workclass  fnlwgt  education.num     sex  capital.gain  \\\n",
       "4159    17   Private  130125              6  Female          1055   \n",
       "18810   17   Private  187308              6  Female             0   \n",
       "25709   17   Private  153021              8  Female             0   \n",
       "6046    17         ?  103810              8    Male             0   \n",
       "8682    17         ?  127003              5    Male             0   \n",
       "...    ...       ...     ...            ...     ...           ...   \n",
       "8914    90   Private   51744             14    Male             0   \n",
       "8791    90   Private  141758              5  Female             0   \n",
       "7756    90   Private  313986              7    Male             0   \n",
       "14659   90   Private   40388             13    Male             0   \n",
       "0       90         ?   77053              9  Female             0   \n",
       "\n",
       "       capital.loss  hours.per.week  income  \n",
       "4159              0              20       0  \n",
       "18810             0              15       0  \n",
       "25709             0              20       0  \n",
       "6046              0              40       0  \n",
       "8682              0              40       0  \n",
       "...             ...             ...     ...  \n",
       "8914              0              50       1  \n",
       "8791              0              40       0  \n",
       "7756              0              40       0  \n",
       "14659             0              55       0  \n",
       "0              4356              40       0  \n",
       "\n",
       "[32537 rows x 9 columns]"
      ]
     },
     "execution_count": 70,
     "metadata": {},
     "output_type": "execute_result"
    }
   ],
   "source": [
    "df"
   ]
  },
  {
   "cell_type": "code",
   "execution_count": 71,
   "id": "e5f88ae5",
   "metadata": {},
   "outputs": [
    {
     "data": {
      "text/html": [
       "<div>\n",
       "<style scoped>\n",
       "    .dataframe tbody tr th:only-of-type {\n",
       "        vertical-align: middle;\n",
       "    }\n",
       "\n",
       "    .dataframe tbody tr th {\n",
       "        vertical-align: top;\n",
       "    }\n",
       "\n",
       "    .dataframe thead th {\n",
       "        text-align: right;\n",
       "    }\n",
       "</style>\n",
       "<table border=\"1\" class=\"dataframe\">\n",
       "  <thead>\n",
       "    <tr style=\"text-align: right;\">\n",
       "      <th></th>\n",
       "      <th>age</th>\n",
       "      <th>fnlwgt</th>\n",
       "      <th>education.num</th>\n",
       "      <th>capital.gain</th>\n",
       "      <th>capital.loss</th>\n",
       "      <th>hours.per.week</th>\n",
       "      <th>income</th>\n",
       "    </tr>\n",
       "  </thead>\n",
       "  <tbody>\n",
       "    <tr>\n",
       "      <th>count</th>\n",
       "      <td>32537.000000</td>\n",
       "      <td>3.253700e+04</td>\n",
       "      <td>32537.000000</td>\n",
       "      <td>32537.000000</td>\n",
       "      <td>32537.000000</td>\n",
       "      <td>32537.000000</td>\n",
       "      <td>32537.000000</td>\n",
       "    </tr>\n",
       "    <tr>\n",
       "      <th>mean</th>\n",
       "      <td>38.585549</td>\n",
       "      <td>1.897808e+05</td>\n",
       "      <td>10.081815</td>\n",
       "      <td>1078.443741</td>\n",
       "      <td>87.368227</td>\n",
       "      <td>40.440329</td>\n",
       "      <td>0.240926</td>\n",
       "    </tr>\n",
       "    <tr>\n",
       "      <th>std</th>\n",
       "      <td>13.637984</td>\n",
       "      <td>1.055565e+05</td>\n",
       "      <td>2.571633</td>\n",
       "      <td>7387.957424</td>\n",
       "      <td>403.101833</td>\n",
       "      <td>12.346889</td>\n",
       "      <td>0.427652</td>\n",
       "    </tr>\n",
       "    <tr>\n",
       "      <th>min</th>\n",
       "      <td>17.000000</td>\n",
       "      <td>1.228500e+04</td>\n",
       "      <td>1.000000</td>\n",
       "      <td>0.000000</td>\n",
       "      <td>0.000000</td>\n",
       "      <td>1.000000</td>\n",
       "      <td>0.000000</td>\n",
       "    </tr>\n",
       "    <tr>\n",
       "      <th>25%</th>\n",
       "      <td>28.000000</td>\n",
       "      <td>1.178270e+05</td>\n",
       "      <td>9.000000</td>\n",
       "      <td>0.000000</td>\n",
       "      <td>0.000000</td>\n",
       "      <td>40.000000</td>\n",
       "      <td>0.000000</td>\n",
       "    </tr>\n",
       "    <tr>\n",
       "      <th>50%</th>\n",
       "      <td>37.000000</td>\n",
       "      <td>1.783560e+05</td>\n",
       "      <td>10.000000</td>\n",
       "      <td>0.000000</td>\n",
       "      <td>0.000000</td>\n",
       "      <td>40.000000</td>\n",
       "      <td>0.000000</td>\n",
       "    </tr>\n",
       "    <tr>\n",
       "      <th>75%</th>\n",
       "      <td>48.000000</td>\n",
       "      <td>2.369930e+05</td>\n",
       "      <td>12.000000</td>\n",
       "      <td>0.000000</td>\n",
       "      <td>0.000000</td>\n",
       "      <td>45.000000</td>\n",
       "      <td>0.000000</td>\n",
       "    </tr>\n",
       "    <tr>\n",
       "      <th>max</th>\n",
       "      <td>90.000000</td>\n",
       "      <td>1.484705e+06</td>\n",
       "      <td>16.000000</td>\n",
       "      <td>99999.000000</td>\n",
       "      <td>4356.000000</td>\n",
       "      <td>99.000000</td>\n",
       "      <td>1.000000</td>\n",
       "    </tr>\n",
       "  </tbody>\n",
       "</table>\n",
       "</div>"
      ],
      "text/plain": [
       "                age        fnlwgt  education.num  capital.gain  capital.loss  \\\n",
       "count  32537.000000  3.253700e+04   32537.000000  32537.000000  32537.000000   \n",
       "mean      38.585549  1.897808e+05      10.081815   1078.443741     87.368227   \n",
       "std       13.637984  1.055565e+05       2.571633   7387.957424    403.101833   \n",
       "min       17.000000  1.228500e+04       1.000000      0.000000      0.000000   \n",
       "25%       28.000000  1.178270e+05       9.000000      0.000000      0.000000   \n",
       "50%       37.000000  1.783560e+05      10.000000      0.000000      0.000000   \n",
       "75%       48.000000  2.369930e+05      12.000000      0.000000      0.000000   \n",
       "max       90.000000  1.484705e+06      16.000000  99999.000000   4356.000000   \n",
       "\n",
       "       hours.per.week        income  \n",
       "count    32537.000000  32537.000000  \n",
       "mean        40.440329      0.240926  \n",
       "std         12.346889      0.427652  \n",
       "min          1.000000      0.000000  \n",
       "25%         40.000000      0.000000  \n",
       "50%         40.000000      0.000000  \n",
       "75%         45.000000      0.000000  \n",
       "max         99.000000      1.000000  "
      ]
     },
     "execution_count": 71,
     "metadata": {},
     "output_type": "execute_result"
    }
   ],
   "source": [
    "df.describe()"
   ]
  },
  {
   "cell_type": "code",
   "execution_count": 72,
   "id": "ab0da37f",
   "metadata": {},
   "outputs": [
    {
     "data": {
      "text/plain": [
       "1159"
      ]
     },
     "execution_count": 72,
     "metadata": {},
     "output_type": "execute_result"
    }
   ],
   "source": [
    "df['income'].argmax()"
   ]
  },
  {
   "cell_type": "code",
   "execution_count": 73,
   "id": "d740fc15",
   "metadata": {},
   "outputs": [
    {
     "data": {
      "text/plain": [
       "0    24698\n",
       "1     7839\n",
       "Name: income, dtype: int64"
      ]
     },
     "execution_count": 73,
     "metadata": {},
     "output_type": "execute_result"
    }
   ],
   "source": [
    "df['income'].value_counts()"
   ]
  },
  {
   "cell_type": "code",
   "execution_count": 74,
   "id": "4550e1d9",
   "metadata": {},
   "outputs": [
    {
     "data": {
      "text/html": [
       "<div>\n",
       "<style scoped>\n",
       "    .dataframe tbody tr th:only-of-type {\n",
       "        vertical-align: middle;\n",
       "    }\n",
       "\n",
       "    .dataframe tbody tr th {\n",
       "        vertical-align: top;\n",
       "    }\n",
       "\n",
       "    .dataframe thead th {\n",
       "        text-align: right;\n",
       "    }\n",
       "</style>\n",
       "<table border=\"1\" class=\"dataframe\">\n",
       "  <thead>\n",
       "    <tr style=\"text-align: right;\">\n",
       "      <th></th>\n",
       "      <th>age</th>\n",
       "      <th>workclass</th>\n",
       "      <th>fnlwgt</th>\n",
       "      <th>education.num</th>\n",
       "      <th>sex</th>\n",
       "      <th>capital.gain</th>\n",
       "      <th>capital.loss</th>\n",
       "      <th>hours.per.week</th>\n",
       "      <th>income</th>\n",
       "    </tr>\n",
       "  </thead>\n",
       "  <tbody>\n",
       "    <tr>\n",
       "      <th>10961</th>\n",
       "      <td>19</td>\n",
       "      <td>Private</td>\n",
       "      <td>323605</td>\n",
       "      <td>4</td>\n",
       "      <td>Male</td>\n",
       "      <td>0</td>\n",
       "      <td>0</td>\n",
       "      <td>60</td>\n",
       "      <td>1</td>\n",
       "    </tr>\n",
       "  </tbody>\n",
       "</table>\n",
       "</div>"
      ],
      "text/plain": [
       "       age workclass  fnlwgt  education.num   sex  capital.gain  capital.loss  \\\n",
       "10961   19   Private  323605              4  Male             0             0   \n",
       "\n",
       "       hours.per.week  income  \n",
       "10961              60       1  "
      ]
     },
     "execution_count": 74,
     "metadata": {},
     "output_type": "execute_result"
    }
   ],
   "source": [
    "df.iloc[[df['income'].argmax()]]"
   ]
  },
  {
   "cell_type": "code",
   "execution_count": 75,
   "id": "f1ae1229",
   "metadata": {},
   "outputs": [],
   "source": [
    "labelencoder = LabelEncoder()\n",
    "df['workclass'] = labelencoder.fit_transform(df['workclass'])\n",
    "df['sex'] = labelencoder.fit_transform(df['sex'])"
   ]
  },
  {
   "cell_type": "code",
   "execution_count": 76,
   "id": "43155575",
   "metadata": {},
   "outputs": [
    {
     "data": {
      "text/html": [
       "<div>\n",
       "<style scoped>\n",
       "    .dataframe tbody tr th:only-of-type {\n",
       "        vertical-align: middle;\n",
       "    }\n",
       "\n",
       "    .dataframe tbody tr th {\n",
       "        vertical-align: top;\n",
       "    }\n",
       "\n",
       "    .dataframe thead th {\n",
       "        text-align: right;\n",
       "    }\n",
       "</style>\n",
       "<table border=\"1\" class=\"dataframe\">\n",
       "  <thead>\n",
       "    <tr style=\"text-align: right;\">\n",
       "      <th></th>\n",
       "      <th>age</th>\n",
       "      <th>workclass</th>\n",
       "      <th>fnlwgt</th>\n",
       "      <th>education.num</th>\n",
       "      <th>sex</th>\n",
       "      <th>capital.gain</th>\n",
       "      <th>capital.loss</th>\n",
       "      <th>hours.per.week</th>\n",
       "      <th>income</th>\n",
       "    </tr>\n",
       "  </thead>\n",
       "  <tbody>\n",
       "    <tr>\n",
       "      <th>4159</th>\n",
       "      <td>17</td>\n",
       "      <td>4</td>\n",
       "      <td>130125</td>\n",
       "      <td>6</td>\n",
       "      <td>0</td>\n",
       "      <td>1055</td>\n",
       "      <td>0</td>\n",
       "      <td>20</td>\n",
       "      <td>0</td>\n",
       "    </tr>\n",
       "    <tr>\n",
       "      <th>18810</th>\n",
       "      <td>17</td>\n",
       "      <td>4</td>\n",
       "      <td>187308</td>\n",
       "      <td>6</td>\n",
       "      <td>0</td>\n",
       "      <td>0</td>\n",
       "      <td>0</td>\n",
       "      <td>15</td>\n",
       "      <td>0</td>\n",
       "    </tr>\n",
       "    <tr>\n",
       "      <th>25709</th>\n",
       "      <td>17</td>\n",
       "      <td>4</td>\n",
       "      <td>153021</td>\n",
       "      <td>8</td>\n",
       "      <td>0</td>\n",
       "      <td>0</td>\n",
       "      <td>0</td>\n",
       "      <td>20</td>\n",
       "      <td>0</td>\n",
       "    </tr>\n",
       "    <tr>\n",
       "      <th>6046</th>\n",
       "      <td>17</td>\n",
       "      <td>0</td>\n",
       "      <td>103810</td>\n",
       "      <td>8</td>\n",
       "      <td>1</td>\n",
       "      <td>0</td>\n",
       "      <td>0</td>\n",
       "      <td>40</td>\n",
       "      <td>0</td>\n",
       "    </tr>\n",
       "    <tr>\n",
       "      <th>8682</th>\n",
       "      <td>17</td>\n",
       "      <td>0</td>\n",
       "      <td>127003</td>\n",
       "      <td>5</td>\n",
       "      <td>1</td>\n",
       "      <td>0</td>\n",
       "      <td>0</td>\n",
       "      <td>40</td>\n",
       "      <td>0</td>\n",
       "    </tr>\n",
       "  </tbody>\n",
       "</table>\n",
       "</div>"
      ],
      "text/plain": [
       "       age  workclass  fnlwgt  education.num  sex  capital.gain  capital.loss  \\\n",
       "4159    17          4  130125              6    0          1055             0   \n",
       "18810   17          4  187308              6    0             0             0   \n",
       "25709   17          4  153021              8    0             0             0   \n",
       "6046    17          0  103810              8    1             0             0   \n",
       "8682    17          0  127003              5    1             0             0   \n",
       "\n",
       "       hours.per.week  income  \n",
       "4159               20       0  \n",
       "18810              15       0  \n",
       "25709              20       0  \n",
       "6046               40       0  \n",
       "8682               40       0  "
      ]
     },
     "execution_count": 76,
     "metadata": {},
     "output_type": "execute_result"
    }
   ],
   "source": [
    "df.head()"
   ]
  },
  {
   "cell_type": "markdown",
   "id": "ab94364c",
   "metadata": {},
   "source": [
    "# split the data"
   ]
  },
  {
   "cell_type": "code",
   "execution_count": 77,
   "id": "f6a31b72",
   "metadata": {},
   "outputs": [],
   "source": [
    "x=df.iloc[:,:8]\n",
    "y=df.iloc[:,8:]\n",
    "X_train, X_test, y_train, y_test = train_test_split(x, y, test_size= 0.25, random_state= 0)"
   ]
  },
  {
   "cell_type": "code",
   "execution_count": 78,
   "id": "cf6782ef",
   "metadata": {},
   "outputs": [
    {
     "data": {
      "text/plain": [
       "array([[ 0.62265628,  0.08794759,  3.72443053, ..., -0.14550991,\n",
       "        -0.21536826, -0.03769198],\n",
       "       [ 0.91661914,  1.46057119, -0.69979643, ..., -0.14550991,\n",
       "        -0.21536826, -0.03769198],\n",
       "       [ 0.99010986,  0.08794759, -0.09265472, ..., -0.14550991,\n",
       "        -0.21536826,  1.58188845],\n",
       "       ...,\n",
       "       [-1.58206519,  0.08794759, -1.05200122, ..., -0.14550991,\n",
       "        -0.21536826, -1.65727241],\n",
       "       [ 1.79850773, -1.97098781, -1.42474317, ..., -0.14550991,\n",
       "         6.17722508,  1.58188845],\n",
       "       [ 0.10822127,  0.08794759,  5.76231851, ..., -0.14550991,\n",
       "        -0.21536826, -0.19965002]])"
      ]
     },
     "execution_count": 78,
     "metadata": {},
     "output_type": "execute_result"
    }
   ],
   "source": [
    "#Feature Scaling\n",
    "sc = StandardScaler()\n",
    "X_train = sc.fit_transform(X_train)\n",
    "X_test = sc.transform(X_test)\n",
    "X_test"
   ]
  },
  {
   "cell_type": "code",
   "execution_count": 79,
   "id": "e02a7809",
   "metadata": {},
   "outputs": [],
   "source": [
    "from sklearn.linear_model import LinearRegression\n",
    "from sklearn.ensemble import RandomForestClassifier\n",
    "from sklearn.neighbors import KNeighborsClassifier\n",
    "from sklearn.tree import DecisionTreeClassifier\n",
    "def models(X_train,Y_train):\n",
    "  lr=LinearRegression()\n",
    "  lr.fit(X_train,Y_train)\n",
    "  svm = SVC(kernel= 'linear', C = 1).fit(X_train, y_train)\n",
    "  #Using RandomForestClassifier()\n",
    "  rf=RandomForestClassifier()\n",
    "  rf.fit(X_train,Y_train)\n",
    "   #Using KNeighborsClassifier \n",
    "  knn = KNeighborsClassifier(n_neighbors = 5, metric = 'minkowski', p = 2)\n",
    "  knn.fit(X_train, Y_train)\n",
    "\n",
    "  #Using DecisionTreeClassifier \n",
    "  tree = DecisionTreeClassifier(criterion = 'entropy', random_state = 0)\n",
    "  tree.fit(X_train, Y_train)\n",
    "    \n",
    "  \n",
    "  #print model accuracy on the training data.\n",
    "  print('[1]K Nearest Neighbor Training Accuracy:', knn.score(X_train, Y_train))\n",
    "  print('[2]Decision Tree Classifier Training Accuracy:', tree.score(X_train, Y_train))\n",
    "  print('[3]Random Forest Classifier Training Accuracy:', rf.score(X_train, Y_train))\n",
    "  print('[4]SVM Classifier Training Accuracy:', svm.score(X_train, Y_train))\n",
    "  print('[5]LinearRegression Classifier Training Accuracy:', lr.score(X_train, Y_train))\n",
    "  \n",
    "  \n",
    "  \n",
    "  return  lr,svm,rf,knn,tree"
   ]
  },
  {
   "cell_type": "code",
   "execution_count": 85,
   "id": "9171a48b",
   "metadata": {},
   "outputs": [
    {
     "name": "stderr",
     "output_type": "stream",
     "text": [
      "C:\\Users\\dell\\anaconda3\\lib\\site-packages\\sklearn\\utils\\validation.py:993: DataConversionWarning: A column-vector y was passed when a 1d array was expected. Please change the shape of y to (n_samples, ), for example using ravel().\n",
      "  y = column_or_1d(y, warn=True)\n",
      "C:\\Users\\dell\\AppData\\Local\\Temp\\ipykernel_10424\\3330594993.py:11: DataConversionWarning: A column-vector y was passed when a 1d array was expected. Please change the shape of y to (n_samples,), for example using ravel().\n",
      "  rf.fit(X_train,Y_train)\n",
      "C:\\Users\\dell\\anaconda3\\lib\\site-packages\\sklearn\\neighbors\\_classification.py:198: DataConversionWarning: A column-vector y was passed when a 1d array was expected. Please change the shape of y to (n_samples,), for example using ravel().\n",
      "  return self._fit(X, y)\n",
      "C:\\Users\\dell\\anaconda3\\lib\\site-packages\\sklearn\\neighbors\\_classification.py:228: FutureWarning: Unlike other reduction functions (e.g. `skew`, `kurtosis`), the default behavior of `mode` typically preserves the axis it acts along. In SciPy 1.11.0, this behavior will change: the default value of `keepdims` will become False, the `axis` over which the statistic is taken will be eliminated, and the value None will no longer be accepted. Set `keepdims` to True or False to avoid this warning.\n",
      "  mode, _ = stats.mode(_y[neigh_ind, k], axis=1)\n"
     ]
    },
    {
     "name": "stdout",
     "output_type": "stream",
     "text": [
      "[1]K Nearest Neighbor Training Accuracy: 0.8657487091222031\n",
      "[2]Decision Tree Classifier Training Accuracy: 0.9993443160396689\n",
      "[3]Random Forest Classifier Training Accuracy: 0.9993033357921481\n",
      "[4]SVM Classifier Training Accuracy: 0.8114089009097615\n",
      "[5]LinearRegression Classifier Training Accuracy: 0.25050029457188294\n"
     ]
    }
   ],
   "source": [
    "lr,svm,rf,knn,tree = models(X_train,y_train)"
   ]
  },
  {
   "cell_type": "code",
   "execution_count": 87,
   "id": "5ae94f60",
   "metadata": {},
   "outputs": [],
   "source": [
    "model=[lr,svm,rf,knn,tree]"
   ]
  },
  {
   "cell_type": "code",
   "execution_count": 90,
   "id": "55fff358",
   "metadata": {},
   "outputs": [
    {
     "name": "stdout",
     "output_type": "stream",
     "text": [
      "\n",
      "[[6012  148]\n",
      " [1385  590]]\n",
      "Model[SVC(C=1, kernel='linear')] Testing Accuracy = \"0.8115550092194223!\"\n",
      "\n",
      "[[5680  480]\n",
      " [ 891 1084]]\n",
      "Model[RandomForestClassifier()] Testing Accuracy = \"0.8314689612784265!\"\n",
      "\n"
     ]
    },
    {
     "name": "stderr",
     "output_type": "stream",
     "text": [
      "C:\\Users\\dell\\anaconda3\\lib\\site-packages\\sklearn\\neighbors\\_classification.py:228: FutureWarning: Unlike other reduction functions (e.g. `skew`, `kurtosis`), the default behavior of `mode` typically preserves the axis it acts along. In SciPy 1.11.0, this behavior will change: the default value of `keepdims` will become False, the `axis` over which the statistic is taken will be eliminated, and the value None will no longer be accepted. Set `keepdims` to True or False to avoid this warning.\n",
      "  mode, _ = stats.mode(_y[neigh_ind, k], axis=1)\n"
     ]
    },
    {
     "name": "stdout",
     "output_type": "stream",
     "text": [
      "[[5656  504]\n",
      " [1006  969]]\n",
      "Model[KNeighborsClassifier()] Testing Accuracy = \"0.8143822987092809!\"\n",
      "\n",
      "[[5217  943]\n",
      " [ 839 1136]]\n",
      "Model[DecisionTreeClassifier(criterion='entropy', random_state=0)] Testing Accuracy = \"0.7809465273509527!\"\n",
      "\n"
     ]
    }
   ],
   "source": [
    "#Show the confusion matrix and the accuracy of the models on the test data.\n",
    "for i in model:\n",
    "  try:\n",
    "      cm = confusion_matrix(y_test, i.predict(X_test))\n",
    "\n",
    "      TN = cm[0][0]\n",
    "      TP = cm[1][1]\n",
    "      FN = cm[1][0]\n",
    "      FP = cm[0][1]\n",
    "\n",
    "      print(cm)\n",
    "      print('Model[{}] Testing Accuracy = \"{}!\"'.format(i,  (TP + TN) / (TP + TN + FN + FP)))\n",
    "  except:\n",
    "    pass\n",
    "  print()# Print a new line"
   ]
  },
  {
   "cell_type": "code",
   "execution_count": 93,
   "id": "7bf4d99a",
   "metadata": {},
   "outputs": [
    {
     "name": "stdout",
     "output_type": "stream",
     "text": [
      "Model  0\n",
      "Model  1\n",
      "              precision    recall  f1-score   support\n",
      "\n",
      "           0       0.81      0.98      0.89      6160\n",
      "           1       0.80      0.30      0.43      1975\n",
      "\n",
      "    accuracy                           0.81      8135\n",
      "   macro avg       0.81      0.64      0.66      8135\n",
      "weighted avg       0.81      0.81      0.78      8135\n",
      "\n",
      "0.8115550092194223\n",
      "\n",
      "Model  2\n",
      "              precision    recall  f1-score   support\n",
      "\n",
      "           0       0.86      0.92      0.89      6160\n",
      "           1       0.69      0.55      0.61      1975\n",
      "\n",
      "    accuracy                           0.83      8135\n",
      "   macro avg       0.78      0.74      0.75      8135\n",
      "weighted avg       0.82      0.83      0.82      8135\n",
      "\n",
      "0.8314689612784265\n",
      "\n",
      "Model  3\n"
     ]
    },
    {
     "name": "stderr",
     "output_type": "stream",
     "text": [
      "C:\\Users\\dell\\anaconda3\\lib\\site-packages\\sklearn\\neighbors\\_classification.py:228: FutureWarning: Unlike other reduction functions (e.g. `skew`, `kurtosis`), the default behavior of `mode` typically preserves the axis it acts along. In SciPy 1.11.0, this behavior will change: the default value of `keepdims` will become False, the `axis` over which the statistic is taken will be eliminated, and the value None will no longer be accepted. Set `keepdims` to True or False to avoid this warning.\n",
      "  mode, _ = stats.mode(_y[neigh_ind, k], axis=1)\n"
     ]
    },
    {
     "name": "stdout",
     "output_type": "stream",
     "text": [
      "              precision    recall  f1-score   support\n",
      "\n",
      "           0       0.85      0.92      0.88      6160\n",
      "           1       0.66      0.49      0.56      1975\n",
      "\n",
      "    accuracy                           0.81      8135\n",
      "   macro avg       0.75      0.70      0.72      8135\n",
      "weighted avg       0.80      0.81      0.80      8135\n",
      "\n"
     ]
    },
    {
     "name": "stderr",
     "output_type": "stream",
     "text": [
      "C:\\Users\\dell\\anaconda3\\lib\\site-packages\\sklearn\\neighbors\\_classification.py:228: FutureWarning: Unlike other reduction functions (e.g. `skew`, `kurtosis`), the default behavior of `mode` typically preserves the axis it acts along. In SciPy 1.11.0, this behavior will change: the default value of `keepdims` will become False, the `axis` over which the statistic is taken will be eliminated, and the value None will no longer be accepted. Set `keepdims` to True or False to avoid this warning.\n",
      "  mode, _ = stats.mode(_y[neigh_ind, k], axis=1)\n"
     ]
    },
    {
     "name": "stdout",
     "output_type": "stream",
     "text": [
      "0.8143822987092809\n",
      "\n",
      "Model  4\n",
      "              precision    recall  f1-score   support\n",
      "\n",
      "           0       0.86      0.85      0.85      6160\n",
      "           1       0.55      0.58      0.56      1975\n",
      "\n",
      "    accuracy                           0.78      8135\n",
      "   macro avg       0.70      0.71      0.71      8135\n",
      "weighted avg       0.78      0.78      0.78      8135\n",
      "\n",
      "0.7809465273509527\n",
      "\n"
     ]
    }
   ],
   "source": [
    "#Show other ways to get the classification accuracy & other metrics \n",
    "for i in range(len(model)):\n",
    "  try:\n",
    "      print('Model ',i)\n",
    "      #Check precision, recall, f1-score\n",
    "      print( classification_report(y_test, model[i].predict(X_test)) )\n",
    "      #Another way to get the models accuracy on the test data\n",
    "      print( accuracy_score(y_test, model[i].predict(X_test)))\n",
    "      print()#Print a new line\n",
    "  except:\n",
    "    pass"
   ]
  },
  {
   "cell_type": "code",
   "execution_count": 95,
   "id": "92919c12",
   "metadata": {},
   "outputs": [
    {
     "name": "stdout",
     "output_type": "stream",
     "text": [
      "[1 0 0 ... 0 1 0]\n",
      "\n",
      "       income\n",
      "29826       1\n",
      "13988       0\n",
      "15476       0\n",
      "31132       0\n",
      "12118       0\n",
      "...       ...\n",
      "12995       0\n",
      "6578        1\n",
      "30155       0\n",
      "35          1\n",
      "30435       0\n",
      "\n",
      "[8135 rows x 1 columns]\n"
     ]
    }
   ],
   "source": [
    "#Print Prediction of KNN model\n",
    "pred_k = model[-1].predict(X_test)\n",
    "print(pred_k)\n",
    "\n",
    "#Print a space\n",
    "print()\n",
    "\n",
    "#Print the actual values\n",
    "print(y_test)"
   ]
  },
  {
   "cell_type": "code",
   "execution_count": 106,
   "id": "366cf2bd",
   "metadata": {},
   "outputs": [
    {
     "name": "stdout",
     "output_type": "stream",
     "text": [
      "Recognizing...\n",
      "result2:\n",
      "{   'alternative': [   {'confidence': 0.88687539, 'transcript': 'improve'},\n",
      "                       {'transcript': 'impr'}],\n",
      "    'final': True}\n"
     ]
    },
    {
     "data": {
      "text/plain": [
       "'improve'"
      ]
     },
     "execution_count": 106,
     "metadata": {},
     "output_type": "execute_result"
    }
   ],
   "source": [
    "import pyttsx3\n",
    "import speech_recognition as sr \n",
    "def speech_text():\n",
    "        r = sr.Recognizer()\n",
    "        with sr.Microphone() as source:\n",
    "\n",
    "            audio_data = r.record(source, duration=5)\n",
    "            print(\"Recognizing...\")\n",
    "            n = r.recognize_google(audio_data)\n",
    "            #print(n)\n",
    "            return n\n",
    "speech_text()"
   ]
  },
  {
   "cell_type": "code",
   "execution_count": 102,
   "id": "f0f75e54",
   "metadata": {},
   "outputs": [
    {
     "name": "stdout",
     "output_type": "stream",
     "text": [
      "Collecting PyAudio\n",
      "  Downloading PyAudio-0.2.13-cp39-cp39-win_amd64.whl (164 kB)\n",
      "     -------------------------------------- 164.1/164.1 kB 1.4 MB/s eta 0:00:00\n",
      "Installing collected packages: PyAudio\n",
      "Successfully installed PyAudio-0.2.13\n"
     ]
    }
   ],
   "source": [
    "!pip install   PyAudio"
   ]
  },
  {
   "cell_type": "code",
   "execution_count": null,
   "id": "b687be27",
   "metadata": {},
   "outputs": [],
   "source": []
  }
 ],
 "metadata": {
  "kernelspec": {
   "display_name": "Python 3 (ipykernel)",
   "language": "python",
   "name": "python3"
  },
  "language_info": {
   "codemirror_mode": {
    "name": "ipython",
    "version": 3
   },
   "file_extension": ".py",
   "mimetype": "text/x-python",
   "name": "python",
   "nbconvert_exporter": "python",
   "pygments_lexer": "ipython3",
   "version": "3.9.13"
  }
 },
 "nbformat": 4,
 "nbformat_minor": 5
}
