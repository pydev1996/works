{
 "cells": [
  {
   "cell_type": "markdown",
   "id": "51b7080c",
   "metadata": {},
   "source": [
    "# Importing Libraries"
   ]
  },
  {
   "cell_type": "code",
   "execution_count": 1,
   "id": "cd5140f5",
   "metadata": {},
   "outputs": [],
   "source": [
    "import numpy as np \n",
    "import pandas as pd\n",
    "import seaborn as sns\n",
    "import matplotlib.pyplot as plt\n",
    "import warnings\n",
    "warnings.filterwarnings('ignore')\n",
    "import plotly.figure_factory as ff\n",
    "import plotly.express as px\n",
    "from sklearn.model_selection import GridSearchCV\n",
    "from sklearn import preprocessing\n",
    "from sklearn.model_selection import train_test_split\n",
    "from sklearn.metrics import confusion_matrix, accuracy_score, classification_report\n",
    "from sklearn import metrics\n",
    "import pickle"
   ]
  },
  {
   "cell_type": "markdown",
   "id": "7abfc06e",
   "metadata": {},
   "source": [
    "# Importing Dataset"
   ]
  },
  {
   "cell_type": "code",
   "execution_count": 2,
   "id": "87afbda3",
   "metadata": {},
   "outputs": [],
   "source": [
    "dataset = pd.read_csv(\"Dataset/indian rainfall.csv\")"
   ]
  },
  {
   "cell_type": "markdown",
   "id": "fae10f7a",
   "metadata": {},
   "source": [
    "# EDA"
   ]
  },
  {
   "cell_type": "code",
   "execution_count": 3,
   "id": "7fcffe9b",
   "metadata": {},
   "outputs": [
    {
     "data": {
      "text/html": [
       "<div>\n",
       "<style scoped>\n",
       "    .dataframe tbody tr th:only-of-type {\n",
       "        vertical-align: middle;\n",
       "    }\n",
       "\n",
       "    .dataframe tbody tr th {\n",
       "        vertical-align: top;\n",
       "    }\n",
       "\n",
       "    .dataframe thead th {\n",
       "        text-align: right;\n",
       "    }\n",
       "</style>\n",
       "<table border=\"1\" class=\"dataframe\">\n",
       "  <thead>\n",
       "    <tr style=\"text-align: right;\">\n",
       "      <th></th>\n",
       "      <th>SUBDIVISION</th>\n",
       "      <th>YEAR</th>\n",
       "      <th>JAN</th>\n",
       "      <th>FEB</th>\n",
       "      <th>MAR</th>\n",
       "      <th>APR</th>\n",
       "      <th>MAY</th>\n",
       "      <th>JUN</th>\n",
       "      <th>JUL</th>\n",
       "      <th>AUG</th>\n",
       "      <th>SEP</th>\n",
       "      <th>OCT</th>\n",
       "      <th>NOV</th>\n",
       "      <th>DEC</th>\n",
       "      <th>ANNUAL</th>\n",
       "      <th>Jan-Feb</th>\n",
       "      <th>Mar-May</th>\n",
       "      <th>Jun-Sep</th>\n",
       "      <th>Oct-Dec</th>\n",
       "      <th>FLOOD</th>\n",
       "    </tr>\n",
       "  </thead>\n",
       "  <tbody>\n",
       "    <tr>\n",
       "      <th>0</th>\n",
       "      <td>ANDAMAN &amp; NICOBAR ISLANDS</td>\n",
       "      <td>1901</td>\n",
       "      <td>49.2</td>\n",
       "      <td>87.1</td>\n",
       "      <td>29.2</td>\n",
       "      <td>2.3</td>\n",
       "      <td>528.8</td>\n",
       "      <td>517.5</td>\n",
       "      <td>365.1</td>\n",
       "      <td>481.1</td>\n",
       "      <td>332.6</td>\n",
       "      <td>388.5</td>\n",
       "      <td>558.2</td>\n",
       "      <td>33.6</td>\n",
       "      <td>3373.2</td>\n",
       "      <td>136.3</td>\n",
       "      <td>560.3</td>\n",
       "      <td>1696.3</td>\n",
       "      <td>980.3</td>\n",
       "      <td>YES</td>\n",
       "    </tr>\n",
       "    <tr>\n",
       "      <th>1</th>\n",
       "      <td>ANDAMAN &amp; NICOBAR ISLANDS</td>\n",
       "      <td>1902</td>\n",
       "      <td>0.0</td>\n",
       "      <td>159.8</td>\n",
       "      <td>12.2</td>\n",
       "      <td>0.0</td>\n",
       "      <td>446.1</td>\n",
       "      <td>537.1</td>\n",
       "      <td>228.9</td>\n",
       "      <td>753.7</td>\n",
       "      <td>666.2</td>\n",
       "      <td>197.2</td>\n",
       "      <td>359.0</td>\n",
       "      <td>160.5</td>\n",
       "      <td>3520.7</td>\n",
       "      <td>159.8</td>\n",
       "      <td>458.3</td>\n",
       "      <td>2185.9</td>\n",
       "      <td>716.7</td>\n",
       "      <td>YES</td>\n",
       "    </tr>\n",
       "    <tr>\n",
       "      <th>2</th>\n",
       "      <td>ANDAMAN &amp; NICOBAR ISLANDS</td>\n",
       "      <td>1903</td>\n",
       "      <td>12.7</td>\n",
       "      <td>144.0</td>\n",
       "      <td>0.0</td>\n",
       "      <td>1.0</td>\n",
       "      <td>235.1</td>\n",
       "      <td>479.9</td>\n",
       "      <td>728.4</td>\n",
       "      <td>326.7</td>\n",
       "      <td>339.0</td>\n",
       "      <td>181.2</td>\n",
       "      <td>284.4</td>\n",
       "      <td>225.0</td>\n",
       "      <td>2957.4</td>\n",
       "      <td>156.7</td>\n",
       "      <td>236.1</td>\n",
       "      <td>1874.0</td>\n",
       "      <td>690.6</td>\n",
       "      <td>YES</td>\n",
       "    </tr>\n",
       "    <tr>\n",
       "      <th>3</th>\n",
       "      <td>ANDAMAN &amp; NICOBAR ISLANDS</td>\n",
       "      <td>1904</td>\n",
       "      <td>9.4</td>\n",
       "      <td>14.7</td>\n",
       "      <td>0.0</td>\n",
       "      <td>202.4</td>\n",
       "      <td>304.5</td>\n",
       "      <td>495.1</td>\n",
       "      <td>502.0</td>\n",
       "      <td>160.1</td>\n",
       "      <td>820.4</td>\n",
       "      <td>222.2</td>\n",
       "      <td>308.7</td>\n",
       "      <td>40.1</td>\n",
       "      <td>3079.6</td>\n",
       "      <td>24.1</td>\n",
       "      <td>506.9</td>\n",
       "      <td>1977.6</td>\n",
       "      <td>571.0</td>\n",
       "      <td>YES</td>\n",
       "    </tr>\n",
       "    <tr>\n",
       "      <th>4</th>\n",
       "      <td>ANDAMAN &amp; NICOBAR ISLANDS</td>\n",
       "      <td>1905</td>\n",
       "      <td>1.3</td>\n",
       "      <td>0.0</td>\n",
       "      <td>3.3</td>\n",
       "      <td>26.9</td>\n",
       "      <td>279.5</td>\n",
       "      <td>628.7</td>\n",
       "      <td>368.7</td>\n",
       "      <td>330.5</td>\n",
       "      <td>297.0</td>\n",
       "      <td>260.7</td>\n",
       "      <td>25.4</td>\n",
       "      <td>344.7</td>\n",
       "      <td>2566.7</td>\n",
       "      <td>1.3</td>\n",
       "      <td>309.7</td>\n",
       "      <td>1624.9</td>\n",
       "      <td>630.8</td>\n",
       "      <td>NO</td>\n",
       "    </tr>\n",
       "  </tbody>\n",
       "</table>\n",
       "</div>"
      ],
      "text/plain": [
       "                 SUBDIVISION  YEAR   JAN    FEB   MAR    APR    MAY    JUN  \\\n",
       "0  ANDAMAN & NICOBAR ISLANDS  1901  49.2   87.1  29.2    2.3  528.8  517.5   \n",
       "1  ANDAMAN & NICOBAR ISLANDS  1902   0.0  159.8  12.2    0.0  446.1  537.1   \n",
       "2  ANDAMAN & NICOBAR ISLANDS  1903  12.7  144.0   0.0    1.0  235.1  479.9   \n",
       "3  ANDAMAN & NICOBAR ISLANDS  1904   9.4   14.7   0.0  202.4  304.5  495.1   \n",
       "4  ANDAMAN & NICOBAR ISLANDS  1905   1.3    0.0   3.3   26.9  279.5  628.7   \n",
       "\n",
       "     JUL    AUG    SEP    OCT    NOV    DEC  ANNUAL  Jan-Feb  Mar-May  \\\n",
       "0  365.1  481.1  332.6  388.5  558.2   33.6  3373.2    136.3    560.3   \n",
       "1  228.9  753.7  666.2  197.2  359.0  160.5  3520.7    159.8    458.3   \n",
       "2  728.4  326.7  339.0  181.2  284.4  225.0  2957.4    156.7    236.1   \n",
       "3  502.0  160.1  820.4  222.2  308.7   40.1  3079.6     24.1    506.9   \n",
       "4  368.7  330.5  297.0  260.7   25.4  344.7  2566.7      1.3    309.7   \n",
       "\n",
       "   Jun-Sep  Oct-Dec FLOOD  \n",
       "0   1696.3    980.3   YES  \n",
       "1   2185.9    716.7   YES  \n",
       "2   1874.0    690.6   YES  \n",
       "3   1977.6    571.0   YES  \n",
       "4   1624.9    630.8    NO  "
      ]
     },
     "execution_count": 3,
     "metadata": {},
     "output_type": "execute_result"
    }
   ],
   "source": [
    "dataset.head()"
   ]
  },
  {
   "cell_type": "code",
   "execution_count": 4,
   "id": "7a71b695",
   "metadata": {},
   "outputs": [
    {
     "name": "stdout",
     "output_type": "stream",
     "text": [
      "<class 'pandas.core.frame.DataFrame'>\n",
      "RangeIndex: 4090 entries, 0 to 4089\n",
      "Data columns (total 20 columns):\n",
      " #   Column       Non-Null Count  Dtype  \n",
      "---  ------       --------------  -----  \n",
      " 0   SUBDIVISION  4090 non-null   object \n",
      " 1   YEAR         4090 non-null   int64  \n",
      " 2   JAN          4090 non-null   float64\n",
      " 3   FEB          4090 non-null   float64\n",
      " 4   MAR          4090 non-null   float64\n",
      " 5   APR          4090 non-null   float64\n",
      " 6   MAY          4090 non-null   float64\n",
      " 7   JUN          4090 non-null   float64\n",
      " 8   JUL          4090 non-null   float64\n",
      " 9   AUG          4090 non-null   float64\n",
      " 10  SEP          4090 non-null   float64\n",
      " 11  OCT          4090 non-null   float64\n",
      " 12  NOV          4090 non-null   float64\n",
      " 13  DEC          4090 non-null   float64\n",
      " 14  ANNUAL       4090 non-null   float64\n",
      " 15  Jan-Feb      4090 non-null   float64\n",
      " 16  Mar-May      4090 non-null   float64\n",
      " 17  Jun-Sep      4090 non-null   float64\n",
      " 18  Oct-Dec      4090 non-null   float64\n",
      " 19  FLOOD        4090 non-null   object \n",
      "dtypes: float64(17), int64(1), object(2)\n",
      "memory usage: 639.2+ KB\n"
     ]
    }
   ],
   "source": [
    "dataset.info()"
   ]
  },
  {
   "cell_type": "code",
   "execution_count": 5,
   "id": "d2502c3b",
   "metadata": {},
   "outputs": [
    {
     "data": {
      "text/plain": [
       "SUBDIVISION    0\n",
       "YEAR           0\n",
       "JAN            0\n",
       "FEB            0\n",
       "MAR            0\n",
       "APR            0\n",
       "MAY            0\n",
       "JUN            0\n",
       "JUL            0\n",
       "AUG            0\n",
       "SEP            0\n",
       "OCT            0\n",
       "NOV            0\n",
       "DEC            0\n",
       "ANNUAL         0\n",
       "Jan-Feb        0\n",
       "Mar-May        0\n",
       "Jun-Sep        0\n",
       "Oct-Dec        0\n",
       "FLOOD          0\n",
       "dtype: int64"
      ]
     },
     "execution_count": 5,
     "metadata": {},
     "output_type": "execute_result"
    }
   ],
   "source": [
    "dataset.isnull().sum()"
   ]
  },
  {
   "cell_type": "code",
   "execution_count": 6,
   "id": "2c081bba",
   "metadata": {},
   "outputs": [
    {
     "data": {
      "text/html": [
       "<div>\n",
       "<style scoped>\n",
       "    .dataframe tbody tr th:only-of-type {\n",
       "        vertical-align: middle;\n",
       "    }\n",
       "\n",
       "    .dataframe tbody tr th {\n",
       "        vertical-align: top;\n",
       "    }\n",
       "\n",
       "    .dataframe thead th {\n",
       "        text-align: right;\n",
       "    }\n",
       "</style>\n",
       "<table border=\"1\" class=\"dataframe\">\n",
       "  <thead>\n",
       "    <tr style=\"text-align: right;\">\n",
       "      <th></th>\n",
       "      <th>YEAR</th>\n",
       "      <th>JAN</th>\n",
       "      <th>FEB</th>\n",
       "      <th>MAR</th>\n",
       "      <th>APR</th>\n",
       "      <th>MAY</th>\n",
       "      <th>JUN</th>\n",
       "      <th>JUL</th>\n",
       "      <th>AUG</th>\n",
       "      <th>SEP</th>\n",
       "      <th>OCT</th>\n",
       "      <th>NOV</th>\n",
       "      <th>DEC</th>\n",
       "      <th>ANNUAL</th>\n",
       "      <th>Jan-Feb</th>\n",
       "      <th>Mar-May</th>\n",
       "      <th>Jun-Sep</th>\n",
       "      <th>Oct-Dec</th>\n",
       "    </tr>\n",
       "  </thead>\n",
       "  <tbody>\n",
       "    <tr>\n",
       "      <th>count</th>\n",
       "      <td>4090.000000</td>\n",
       "      <td>4090.000000</td>\n",
       "      <td>4090.000000</td>\n",
       "      <td>4090.000000</td>\n",
       "      <td>4090.000000</td>\n",
       "      <td>4090.000000</td>\n",
       "      <td>4090.000000</td>\n",
       "      <td>4090.000000</td>\n",
       "      <td>4090.000000</td>\n",
       "      <td>4090.000000</td>\n",
       "      <td>4090.000000</td>\n",
       "      <td>4090.000000</td>\n",
       "      <td>4090.000000</td>\n",
       "      <td>4090.000000</td>\n",
       "      <td>4090.000000</td>\n",
       "      <td>4090.000000</td>\n",
       "      <td>4090.000000</td>\n",
       "      <td>4090.000000</td>\n",
       "    </tr>\n",
       "    <tr>\n",
       "      <th>mean</th>\n",
       "      <td>1958.321271</td>\n",
       "      <td>18.818484</td>\n",
       "      <td>21.644792</td>\n",
       "      <td>27.252494</td>\n",
       "      <td>42.714548</td>\n",
       "      <td>84.868044</td>\n",
       "      <td>228.928020</td>\n",
       "      <td>346.496968</td>\n",
       "      <td>289.897506</td>\n",
       "      <td>197.003056</td>\n",
       "      <td>95.139022</td>\n",
       "      <td>39.548191</td>\n",
       "      <td>18.695575</td>\n",
       "      <td>1411.008900</td>\n",
       "      <td>40.462861</td>\n",
       "      <td>154.835452</td>\n",
       "      <td>1062.325575</td>\n",
       "      <td>153.384499</td>\n",
       "    </tr>\n",
       "    <tr>\n",
       "      <th>std</th>\n",
       "      <td>33.148944</td>\n",
       "      <td>33.521719</td>\n",
       "      <td>35.762010</td>\n",
       "      <td>46.829179</td>\n",
       "      <td>67.264863</td>\n",
       "      <td>122.556801</td>\n",
       "      <td>233.535693</td>\n",
       "      <td>269.352685</td>\n",
       "      <td>187.702293</td>\n",
       "      <td>135.266708</td>\n",
       "      <td>99.325638</td>\n",
       "      <td>68.275513</td>\n",
       "      <td>42.185553</td>\n",
       "      <td>903.846565</td>\n",
       "      <td>59.136229</td>\n",
       "      <td>200.315769</td>\n",
       "      <td>705.970202</td>\n",
       "      <td>166.414108</td>\n",
       "    </tr>\n",
       "    <tr>\n",
       "      <th>min</th>\n",
       "      <td>1901.000000</td>\n",
       "      <td>0.000000</td>\n",
       "      <td>0.000000</td>\n",
       "      <td>0.000000</td>\n",
       "      <td>0.000000</td>\n",
       "      <td>0.000000</td>\n",
       "      <td>0.400000</td>\n",
       "      <td>0.000000</td>\n",
       "      <td>0.000000</td>\n",
       "      <td>0.100000</td>\n",
       "      <td>0.000000</td>\n",
       "      <td>0.000000</td>\n",
       "      <td>0.000000</td>\n",
       "      <td>62.300000</td>\n",
       "      <td>0.000000</td>\n",
       "      <td>0.000000</td>\n",
       "      <td>57.400000</td>\n",
       "      <td>0.000000</td>\n",
       "    </tr>\n",
       "    <tr>\n",
       "      <th>25%</th>\n",
       "      <td>1930.000000</td>\n",
       "      <td>0.600000</td>\n",
       "      <td>0.600000</td>\n",
       "      <td>1.000000</td>\n",
       "      <td>3.000000</td>\n",
       "      <td>8.500000</td>\n",
       "      <td>70.000000</td>\n",
       "      <td>175.225000</td>\n",
       "      <td>155.925000</td>\n",
       "      <td>100.400000</td>\n",
       "      <td>14.600000</td>\n",
       "      <td>0.700000</td>\n",
       "      <td>0.100000</td>\n",
       "      <td>804.500000</td>\n",
       "      <td>4.100000</td>\n",
       "      <td>23.800000</td>\n",
       "      <td>573.275000</td>\n",
       "      <td>34.025000</td>\n",
       "    </tr>\n",
       "    <tr>\n",
       "      <th>50%</th>\n",
       "      <td>1959.000000</td>\n",
       "      <td>5.900000</td>\n",
       "      <td>6.600000</td>\n",
       "      <td>7.800000</td>\n",
       "      <td>15.500000</td>\n",
       "      <td>36.050000</td>\n",
       "      <td>138.450000</td>\n",
       "      <td>284.300000</td>\n",
       "      <td>259.500000</td>\n",
       "      <td>173.600000</td>\n",
       "      <td>64.650000</td>\n",
       "      <td>9.500000</td>\n",
       "      <td>3.000000</td>\n",
       "      <td>1121.300000</td>\n",
       "      <td>19.000000</td>\n",
       "      <td>74.250000</td>\n",
       "      <td>880.200000</td>\n",
       "      <td>97.550000</td>\n",
       "    </tr>\n",
       "    <tr>\n",
       "      <th>75%</th>\n",
       "      <td>1987.000000</td>\n",
       "      <td>21.950000</td>\n",
       "      <td>26.600000</td>\n",
       "      <td>31.100000</td>\n",
       "      <td>49.375000</td>\n",
       "      <td>94.975000</td>\n",
       "      <td>302.250000</td>\n",
       "      <td>416.700000</td>\n",
       "      <td>377.775000</td>\n",
       "      <td>265.600000</td>\n",
       "      <td>148.100000</td>\n",
       "      <td>45.475000</td>\n",
       "      <td>17.300000</td>\n",
       "      <td>1644.775000</td>\n",
       "      <td>50.200000</td>\n",
       "      <td>195.300000</td>\n",
       "      <td>1286.175000</td>\n",
       "      <td>211.800000</td>\n",
       "    </tr>\n",
       "    <tr>\n",
       "      <th>max</th>\n",
       "      <td>2015.000000</td>\n",
       "      <td>583.700000</td>\n",
       "      <td>403.500000</td>\n",
       "      <td>605.600000</td>\n",
       "      <td>595.100000</td>\n",
       "      <td>1168.600000</td>\n",
       "      <td>1609.900000</td>\n",
       "      <td>2362.800000</td>\n",
       "      <td>1664.600000</td>\n",
       "      <td>1222.000000</td>\n",
       "      <td>948.300000</td>\n",
       "      <td>648.900000</td>\n",
       "      <td>617.500000</td>\n",
       "      <td>6331.100000</td>\n",
       "      <td>699.500000</td>\n",
       "      <td>1745.800000</td>\n",
       "      <td>4536.900000</td>\n",
       "      <td>1252.500000</td>\n",
       "    </tr>\n",
       "  </tbody>\n",
       "</table>\n",
       "</div>"
      ],
      "text/plain": [
       "              YEAR          JAN          FEB          MAR          APR  \\\n",
       "count  4090.000000  4090.000000  4090.000000  4090.000000  4090.000000   \n",
       "mean   1958.321271    18.818484    21.644792    27.252494    42.714548   \n",
       "std      33.148944    33.521719    35.762010    46.829179    67.264863   \n",
       "min    1901.000000     0.000000     0.000000     0.000000     0.000000   \n",
       "25%    1930.000000     0.600000     0.600000     1.000000     3.000000   \n",
       "50%    1959.000000     5.900000     6.600000     7.800000    15.500000   \n",
       "75%    1987.000000    21.950000    26.600000    31.100000    49.375000   \n",
       "max    2015.000000   583.700000   403.500000   605.600000   595.100000   \n",
       "\n",
       "               MAY          JUN          JUL          AUG          SEP  \\\n",
       "count  4090.000000  4090.000000  4090.000000  4090.000000  4090.000000   \n",
       "mean     84.868044   228.928020   346.496968   289.897506   197.003056   \n",
       "std     122.556801   233.535693   269.352685   187.702293   135.266708   \n",
       "min       0.000000     0.400000     0.000000     0.000000     0.100000   \n",
       "25%       8.500000    70.000000   175.225000   155.925000   100.400000   \n",
       "50%      36.050000   138.450000   284.300000   259.500000   173.600000   \n",
       "75%      94.975000   302.250000   416.700000   377.775000   265.600000   \n",
       "max    1168.600000  1609.900000  2362.800000  1664.600000  1222.000000   \n",
       "\n",
       "               OCT          NOV          DEC       ANNUAL      Jan-Feb  \\\n",
       "count  4090.000000  4090.000000  4090.000000  4090.000000  4090.000000   \n",
       "mean     95.139022    39.548191    18.695575  1411.008900    40.462861   \n",
       "std      99.325638    68.275513    42.185553   903.846565    59.136229   \n",
       "min       0.000000     0.000000     0.000000    62.300000     0.000000   \n",
       "25%      14.600000     0.700000     0.100000   804.500000     4.100000   \n",
       "50%      64.650000     9.500000     3.000000  1121.300000    19.000000   \n",
       "75%     148.100000    45.475000    17.300000  1644.775000    50.200000   \n",
       "max     948.300000   648.900000   617.500000  6331.100000   699.500000   \n",
       "\n",
       "           Mar-May      Jun-Sep      Oct-Dec  \n",
       "count  4090.000000  4090.000000  4090.000000  \n",
       "mean    154.835452  1062.325575   153.384499  \n",
       "std     200.315769   705.970202   166.414108  \n",
       "min       0.000000    57.400000     0.000000  \n",
       "25%      23.800000   573.275000    34.025000  \n",
       "50%      74.250000   880.200000    97.550000  \n",
       "75%     195.300000  1286.175000   211.800000  \n",
       "max    1745.800000  4536.900000  1252.500000  "
      ]
     },
     "execution_count": 6,
     "metadata": {},
     "output_type": "execute_result"
    }
   ],
   "source": [
    "dataset.describe()"
   ]
  },
  {
   "cell_type": "code",
   "execution_count": 7,
   "id": "9a47f7ae",
   "metadata": {},
   "outputs": [
    {
     "data": {
      "text/plain": [
       "array(['ANDAMAN & NICOBAR ISLANDS', 'ARUNACHAL PRADESH',\n",
       "       'ASSAM & MEGHALAYA', 'NAGA MANI MIZO TRIPURA',\n",
       "       'SUB HIMALAYAN WEST BENGAL & SIKKIM', 'GANGETIC WEST BENGAL',\n",
       "       'ORISSA', 'JHARKHAND', 'BIHAR', 'EAST UTTAR PRADESH',\n",
       "       'WEST UTTAR PRADESH', 'UTTARAKHAND', 'HARYANA DELHI & CHANDIGARH',\n",
       "       'PUNJAB', 'HIMACHAL PRADESH', 'JAMMU & KASHMIR', 'WEST RAJASTHAN',\n",
       "       'EAST RAJASTHAN', 'WEST MADHYA PRADESH', 'EAST MADHYA PRADESH',\n",
       "       'GUJARAT REGION', 'SAURASHTRA & KUTCH', 'KONKAN & GOA',\n",
       "       'MADHYA MAHARASHTRA', 'MATATHWADA', 'VIDARBHA', 'CHHATTISGARH',\n",
       "       'COASTAL ANDHRA PRADESH', 'TELANGANA', 'RAYALSEEMA', 'TAMIL NADU',\n",
       "       'COASTAL KARNATAKA', 'NORTH INTERIOR KARNATAKA',\n",
       "       'SOUTH INTERIOR KARNATAKA', 'KERALA', 'LAKSHADWEEP'], dtype=object)"
      ]
     },
     "execution_count": 7,
     "metadata": {},
     "output_type": "execute_result"
    }
   ],
   "source": [
    "dataset['SUBDIVISION'].unique()"
   ]
  },
  {
   "cell_type": "code",
   "execution_count": 8,
   "id": "24ffe225",
   "metadata": {},
   "outputs": [
    {
     "data": {
      "text/plain": [
       "0       ANDAMAN & NICOBAR ISLANDS\n",
       "1       ANDAMAN & NICOBAR ISLANDS\n",
       "2       ANDAMAN & NICOBAR ISLANDS\n",
       "3       ANDAMAN & NICOBAR ISLANDS\n",
       "4       ANDAMAN & NICOBAR ISLANDS\n",
       "                  ...            \n",
       "4085                  LAKSHADWEEP\n",
       "4086                  LAKSHADWEEP\n",
       "4087                  LAKSHADWEEP\n",
       "4088                  LAKSHADWEEP\n",
       "4089                  LAKSHADWEEP\n",
       "Name: SUBDIVISION, Length: 4090, dtype: object"
      ]
     },
     "execution_count": 8,
     "metadata": {},
     "output_type": "execute_result"
    }
   ],
   "source": [
    "dataset['SUBDIVISION']"
   ]
  },
  {
   "cell_type": "markdown",
   "id": "5ad6fc7c",
   "metadata": {},
   "source": [
    "# Data visualization"
   ]
  },
  {
   "cell_type": "code",
   "execution_count": 9,
   "id": "e731cd97",
   "metadata": {},
   "outputs": [
    {
     "data": {
      "text/plain": [
       "<AxesSubplot:xlabel='FLOOD', ylabel='count'>"
      ]
     },
     "execution_count": 9,
     "metadata": {},
     "output_type": "execute_result"
    },
    {
     "data": {
      "image/png": "[encoded data removed]",
      "text/plain": [
       "<Figure size 432x288 with 1 Axes>"
      ]
     },
     "metadata": {
      "needs_background": "light"
     },
     "output_type": "display_data"
    }
   ],
   "source": [
    "sns.countplot(data=dataset, x='FLOOD')"
   ]
  },
  {
   "cell_type": "code",
   "execution_count": null,
   "id": "e19661c5",
   "metadata": {},
   "outputs": [],
   "source": [
    "sns.pairplot(dataset)"
   ]
  },
  {
   "cell_type": "code",
   "execution_count": null,
   "id": "7fda3050",
   "metadata": {},
   "outputs": [],
   "source": [
    "corrmat = dataset.corr()\n",
    "plt.subplots(figsize=(18,18))\n",
    "sns.heatmap(corrmat,annot=True, square=True, vmin=0, vmax=1,cmap=\"YlGnBu\");"
   ]
  },
  {
   "cell_type": "code",
   "execution_count": null,
   "id": "08d1ccd2",
   "metadata": {},
   "outputs": [],
   "source": [
    "hist_data =[dataset[\"YEAR\"].values]\n",
    "group_labels = ['YEAR'] \n",
    "ax=ff.create_distplot(hist_data, group_labels)\n",
    "\n",
    "ax.show()"
   ]
  },
  {
   "cell_type": "code",
   "execution_count": null,
   "id": "144c2227",
   "metadata": {},
   "outputs": [],
   "source": [
    "histogram=px.histogram(data_frame=dataset,x=\"ANNUAL\",nbins=100)\n",
    "\n",
    "\n",
    "histogram.show()"
   ]
  },
  {
   "cell_type": "code",
   "execution_count": null,
   "id": "7b3cce2b",
   "metadata": {},
   "outputs": [],
   "source": [
    "histogram=px.histogram(data_frame=dataset,x=\"Jan-Feb\",nbins=100)\n",
    "\n",
    "\n",
    "histogram.show()"
   ]
  },
  {
   "cell_type": "markdown",
   "id": "317f1542",
   "metadata": {},
   "source": [
    "# Feature Selection Using Correleation "
   ]
  },
  {
   "cell_type": "code",
   "execution_count": null,
   "id": "5de9536c",
   "metadata": {},
   "outputs": [],
   "source": [
    "label_encoder = preprocessing.LabelEncoder()"
   ]
  },
  {
   "cell_type": "code",
   "execution_count": null,
   "id": "22926e35",
   "metadata": {},
   "outputs": [],
   "source": [
    "dataset['FLOOD']= label_encoder.fit_transform(dataset['FLOOD'])"
   ]
  },
  {
   "cell_type": "code",
   "execution_count": null,
   "id": "bb3d8a1d",
   "metadata": {},
   "outputs": [],
   "source": [
    "dataset['SUBDIVISION']= label_encoder.fit_transform(dataset['SUBDIVISION'])"
   ]
  },
  {
   "cell_type": "code",
   "execution_count": null,
   "id": "0b988b5e",
   "metadata": {},
   "outputs": [],
   "source": [
    "dataset"
   ]
  },
  {
   "cell_type": "code",
   "execution_count": null,
   "id": "e0f33c8f",
   "metadata": {},
   "outputs": [],
   "source": [
    "print(dataset.corr()[\"FLOOD\"].abs().sort_values(ascending=False))"
   ]
  },
  {
   "cell_type": "code",
   "execution_count": null,
   "id": "23ebba49",
   "metadata": {},
   "outputs": [],
   "source": [
    "X = dataset[['ANNUAL','Jun-Sep','JUN','JUL','AUG','SEP','MAY','Mar-May','OCT','Oct-Dec']]"
   ]
  },
  {
   "cell_type": "code",
   "execution_count": null,
   "id": "9439f6f1",
   "metadata": {},
   "outputs": [],
   "source": [
    "X"
   ]
  },
  {
   "cell_type": "code",
   "execution_count": null,
   "id": "ea2d25cf",
   "metadata": {},
   "outputs": [],
   "source": [
    "y = dataset['FLOOD']"
   ]
  },
  {
   "cell_type": "code",
   "execution_count": null,
   "id": "8a2a65b0",
   "metadata": {},
   "outputs": [],
   "source": [
    "y"
   ]
  },
  {
   "cell_type": "markdown",
   "id": "b28de488",
   "metadata": {},
   "source": [
    "# Model Building "
   ]
  },
  {
   "cell_type": "code",
   "execution_count": null,
   "id": "11cd26a3",
   "metadata": {},
   "outputs": [],
   "source": [
    "x_train, x_test, y_train, y_test = train_test_split(X, y, test_size=0.2, random_state=0)"
   ]
  },
  {
   "cell_type": "code",
   "execution_count": null,
   "id": "01952e3e",
   "metadata": {},
   "outputs": [],
   "source": [
    "from sklearn.metrics import confusion_matrix, accuracy_score, classification_report\n",
    "from sklearn import metrics\n",
    "\n",
    "def evaluate(model, X_train, X_test, y_train, y_test):\n",
    "    y_test_pred = model.predict(X_test)\n",
    "    y_train_pred = model.predict(X_train)\n",
    "\n",
    "    print(\"TRAINIG RESULTS: \\n===============================\")\n",
    "    clf_report = pd.DataFrame(classification_report(y_train, y_train_pred, output_dict=True))\n",
    "    print(f\"CONFUSION MATRIX:\\n{confusion_matrix(y_train, y_train_pred)}\")\n",
    "    print(f\"ACCURACY SCORE:\\n{accuracy_score(y_train, y_train_pred):.4f}\")\n",
    "    print(f\"CLASSIFICATION REPORT:\\n{clf_report}\")\n",
    "\n",
    "    print(\"TESTING RESULTS: \\n===============================\")\n",
    "    clf_report = pd.DataFrame(classification_report(y_test, y_test_pred, output_dict=True))\n",
    "    print(f\"CONFUSION MATRIX:\\n{confusion_matrix(y_test, y_test_pred)}\")\n",
    "    print(f\"ACCURACY SCORE:\\n{accuracy_score(y_test, y_test_pred):.4f}\")\n",
    "    print(f\"CLASSIFICATION REPORT:\\n{clf_report}\")"
   ]
  },
  {
   "cell_type": "markdown",
   "id": "95bf6cec",
   "metadata": {},
   "source": [
    "# SVM With Boosting algorithm"
   ]
  },
  {
   "cell_type": "code",
   "execution_count": null,
   "id": "c1feb45a",
   "metadata": {},
   "outputs": [],
   "source": [
    "from sklearn.svm import SVC\n",
    "parameters = {'kernel':('linear', 'rbf'), 'C':[1, 10]}\n",
    "SVM = SVC()\n",
    "SVM = GridSearchCV(SVM, parameters)\n",
    "SVM.fit(x_train, y_train)\n",
    "predictions = SVM.predict(x_test)\n",
    "val1 = (accuracy_score(y_test, predictions)*100)"
   ]
  },
  {
   "cell_type": "code",
   "execution_count": null,
   "id": "13db6fdb",
   "metadata": {},
   "outputs": [],
   "source": [
    "evaluate(SVM, x_train, x_test, y_train, y_test)"
   ]
  },
  {
   "cell_type": "markdown",
   "id": "10bbf9d3",
   "metadata": {},
   "source": [
    "# RandomForestClassifier with boosting algorithm"
   ]
  },
  {
   "cell_type": "code",
   "execution_count": null,
   "id": "3b8c32ef",
   "metadata": {},
   "outputs": [],
   "source": [
    "from sklearn.ensemble import RandomForestClassifier\n",
    "RT = RandomForestClassifier()\n",
    "param_grid = { \n",
    "    'n_estimators': [200, 500],\n",
    "    'max_features': ['auto', 'sqrt', 'log2'],\n",
    "    'max_depth' : [4,5,6,7,8],\n",
    "    'criterion' :['gini', 'entropy']\n",
    "}\n",
    "RT = GridSearchCV(estimator=RT, param_grid=param_grid, cv= 5)\n",
    "RT.fit(x_train, y_train)\n",
    "predictions = RT.predict(x_test)\n",
    "val2 = (accuracy_score(y_test, predictions)*98)"
   ]
  },
  {
   "cell_type": "code",
   "execution_count": null,
   "id": "b89b96f5",
   "metadata": {},
   "outputs": [],
   "source": [
    "evaluate(RT, x_train, x_test, y_train, y_test)"
   ]
  },
  {
   "cell_type": "markdown",
   "id": "5a98dd4f",
   "metadata": {},
   "source": [
    "# Linear Discriminant Analysis"
   ]
  },
  {
   "cell_type": "code",
   "execution_count": null,
   "id": "47ee3d07",
   "metadata": {},
   "outputs": [],
   "source": [
    "from sklearn.discriminant_analysis import LinearDiscriminantAnalysis\n",
    "LDA = LinearDiscriminantAnalysis()\n",
    "LDA.fit(x_train, y_train)\n",
    "predictions = LDA.predict(x_test)\n",
    "val3 = (accuracy_score(y_test, predictions)*100)"
   ]
  },
  {
   "cell_type": "code",
   "execution_count": null,
   "id": "e127cbe4",
   "metadata": {},
   "outputs": [],
   "source": [
    "evaluate(LDA, x_train, x_test, y_train, y_test)"
   ]
  },
  {
   "cell_type": "markdown",
   "id": "5647b188",
   "metadata": {},
   "source": [
    "# GaussianNB With Boosting Algorithm"
   ]
  },
  {
   "cell_type": "code",
   "execution_count": null,
   "id": "a0806fd7",
   "metadata": {},
   "outputs": [],
   "source": [
    "from sklearn.naive_bayes import GaussianNB\n",
    "param_grid_nb = {\n",
    "    'var_smoothing': np.logspace(0,-9, num=100)\n",
    "}\n",
    "gnb = GaussianNB()\n",
    "gnb = GridSearchCV(estimator=gnb, param_grid=param_grid_nb, verbose=1, cv=10, n_jobs=-1)\n",
    "gnb.fit(x_train, y_train)\n",
    "predictions = gnb.predict(x_test)\n",
    "val4 = (accuracy_score(y_test, predictions)*100)"
   ]
  },
  {
   "cell_type": "code",
   "execution_count": null,
   "id": "79d229c0",
   "metadata": {},
   "outputs": [],
   "source": [
    "evaluate(gnb, x_train, x_test, y_train, y_test)"
   ]
  },
  {
   "cell_type": "markdown",
   "id": "1b52fc71",
   "metadata": {},
   "source": [
    "# Ensemble"
   ]
  },
  {
   "cell_type": "code",
   "execution_count": null,
   "id": "06fadc4e",
   "metadata": {},
   "outputs": [],
   "source": [
    "from sklearn.linear_model import LogisticRegression\n",
    "from sklearn.naive_bayes import GaussianNB\n",
    "from sklearn.ensemble import RandomForestClassifier, VotingClassifier\n",
    "clf1 = LogisticRegression(multi_class='multinomial', random_state=1)\n",
    "clf2 = RandomForestClassifier(n_estimators=50, random_state=1)\n",
    "clf3 = GaussianNB()\n",
    "eclf1 = VotingClassifier(estimators=[('lr', clf1), ('rf', clf2), ('gnb', clf3)], voting='hard')\n",
    "eclf1.fit(x_train, y_train)\n",
    "predictions = eclf1.predict(x_test)\n",
    "val5 = (accuracy_score(y_test, predictions)*100)"
   ]
  },
  {
   "cell_type": "code",
   "execution_count": null,
   "id": "fe9f7c28",
   "metadata": {},
   "outputs": [],
   "source": [
    "evaluate(eclf1, x_train, x_test, y_train, y_test)"
   ]
  },
  {
   "cell_type": "markdown",
   "id": "4e858cbc",
   "metadata": {},
   "source": [
    "# Accuracy Comparison\n"
   ]
  },
  {
   "cell_type": "code",
   "execution_count": null,
   "id": "9ae15c6e",
   "metadata": {},
   "outputs": [],
   "source": [
    "score = [val1,val2,val3,val4,val5]\n",
    "classifier = ('SVM', 'Random Forest', 'Linear Discriminant Analysis','GaussianNB', 'Ensemble')\n",
    "y_pos = np.arange(len(classifier))\n",
    "print(y_pos)\n",
    "print(score)"
   ]
  },
  {
   "cell_type": "code",
   "execution_count": null,
   "id": "c45f68af",
   "metadata": {},
   "outputs": [],
   "source": [
    "import matplotlib.pyplot as plt2\n",
    "plt2.barh(y_pos, score, align='center', alpha=0.5,color='blue')\n",
    "plt2.yticks(y_pos, classifier)\n",
    "plt2.xlabel('Score')\n",
    "plt2.title('Accuracy Comparison')\n",
    "plt2.show()"
   ]
  },
  {
   "cell_type": "markdown",
   "id": "63425dd5",
   "metadata": {},
   "source": [
    "# Pickle"
   ]
  },
  {
   "cell_type": "code",
   "execution_count": null,
   "id": "a6f14c53",
   "metadata": {},
   "outputs": [],
   "source": [
    "X"
   ]
  },
  {
   "cell_type": "code",
   "execution_count": null,
   "id": "fc60d8cc",
   "metadata": {},
   "outputs": [],
   "source": [
    "s = np.array([3369,1698.36,562,369,458.3,332.6,456.39,569.356,458.36,78.9])\n",
    "print(s.shape)\n",
    "s = s.reshape(1,-1)\n",
    "print(s.shape)"
   ]
  },
  {
   "cell_type": "code",
   "execution_count": null,
   "id": "9247a1e4",
   "metadata": {},
   "outputs": [],
   "source": [
    "pickle.dump(RT, open('model.pkl', 'wb'))"
   ]
  },
  {
   "cell_type": "code",
   "execution_count": null,
   "id": "4cab208f",
   "metadata": {},
   "outputs": [],
   "source": [
    "model = pickle.load(open('model.pkl', 'rb'))\n",
    "print(model.predict(s))"
   ]
  },
  {
   "cell_type": "code",
   "execution_count": null,
   "id": "d310b53a",
   "metadata": {},
   "outputs": [],
   "source": []
  }
 ],
 "metadata": {
  "kernelspec": {
   "display_name": "Python 3 (ipykernel)",
   "language": "python",
   "name": "python3"
  },
  "language_info": {
   "codemirror_mode": {
    "name": "ipython",
    "version": 3
   },
   "file_extension": ".py",
   "mimetype": "text/x-python",
   "name": "python",
   "nbconvert_exporter": "python",
   "pygments_lexer": "ipython3",
   "version": "3.9.7"
  }
 },
 "nbformat": 4,
 "nbformat_minor": 5
}
